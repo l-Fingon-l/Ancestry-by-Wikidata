{
 "cells": [
  {
   "cell_type": "markdown",
   "metadata": {},
   "source": [
    "# Ancestry-by-Wikidata\r\n",
    "This is a simple script for getting out the royal ancestry data from Wikidata.  \r\n",
    "There are 3 different ways to get the job done. You may toggle them with the <ins>\"**optimized**\"</ins> button.\r\n",
    "\r\n",
    "\r\n",
    "*   The ***first*** one is quite beautiful and insightful.\r\n",
    "*   The ***optimized*** one is A LOT faster (~50x) but is not so spectacular to watch after. You may want to use it for long queries or just to get a simple answer **yes** / **no** to your query.\r\n",
    "*    In case you just want to see the <ins>**family tree**</ins>, use the\r\n",
    "***unlimited_depth*** option (this one is designed for the unoptimized version).  \r\n",
    "It turns the depth restrictions off. The search will be much slower, though."
   ]
  },
  {
   "cell_type": "markdown",
   "metadata": {},
   "source": [
    "Run the search by providing 2 sources: the ***descendant*** and the ***ancestor***.\r\n",
    "You may provide them in many ways:\r\n",
    "\r\n",
    "\r\n",
    "*   By article name: **Emma Watson**\r\n",
    "*   By url from English Wikipedia: **en.wikipedia.org/wiki/Emma_Watson**\r\n",
    "*   By Wikidata item ID: **Q39476**\r\n",
    "\r\n",
    "You may even open the code snippet and choose one of the pre-described people."
   ]
  },
  {
   "cell_type": "markdown",
   "metadata": {},
   "source": [
    "# How to use:\r\n",
    "Run the first cell ***once***:"
   ]
  },
  {
   "cell_type": "code",
   "execution_count": null,
   "metadata": {},
   "outputs": [],
   "source": [
    "%cd source"
   ]
  },
  {
   "cell_type": "markdown",
   "metadata": {},
   "source": [
    "Run this cell ***as many times*** as you wish. This is your main ***playground***. Change the ***parameters*** if needed."
   ]
  },
  {
   "cell_type": "code",
   "execution_count": null,
   "metadata": {},
   "outputs": [],
   "source": [
    "# Includes\r\n",
    "from ancestry import ancestry\r\n",
    "from ancestry_optimized import ancestry_optimized\r\n",
    "\r\n",
    "# These are your 2 main parameters (you do want to change them!). Don't forget the ' ' around the string\r\n",
    "descendant = 'https://en.wikipedia.org/wiki/J._R._R._Tolkien'\r\n",
    "ancestor = 'Charles II of England'\r\n",
    "\r\n",
    "# Feel free to change these additional parameters (True/False)\r\n",
    "optimized = False\r\n",
    "unlimited_depth = False\r\n",
    "\r\n",
    "# Main driver (no need to touch it)\r\n",
    "if optimized:\r\n",
    "    ancestry_optimized(descendant, ancestor)\r\n",
    "else:\r\n",
    "    ancestry(descendant, ancestor, unlimited_depth)"
   ]
  }
 ],
 "metadata": {
  "kernelspec": {
   "display_name": "Python 3 (ipykernel)",
   "language": "python",
   "name": "python3"
  },
  "language_info": {
   "codemirror_mode": {
    "name": "ipython",
    "version": 3
   },
   "file_extension": ".py",
   "mimetype": "text/x-python",
   "name": "python",
   "nbconvert_exporter": "python",
   "pygments_lexer": "ipython3",
   "version": "3.7.10"
  }
 },
 "nbformat": 4,
 "nbformat_minor": 4
}
